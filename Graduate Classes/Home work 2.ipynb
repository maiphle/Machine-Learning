{
 "cells": [
  {
   "cell_type": "markdown",
   "id": "96028433",
   "metadata": {},
   "source": [
    "# Problem 1: Predicting the quality of wines\n",
    "\n",
    "Predicting the quality of a wine by tasting is considered a very difficult task. Apparently, even professional wine tasters have an accuracy of only $71/%$. In this problem, we will try to predict the quality of wine using knn regression and see if we can do better than professional wine tasters!\n",
    "\n",
    "The dataset contains several parameters that describe the wine. The outcome variable is wine quality on a scale of $1$ to $10$. The goal is to predict the quality of wine using the avaiable features. \n",
    "\n",
    "- fixed acidity\n",
    "- volatile acidity\n",
    "- citric acid\n",
    "- residual sugar\n",
    "- chlorides\n",
    "- free sulfur dioxide\n",
    "- total sulfur dioxide\n",
    "- density\n",
    "- pH\n",
    "- sulphates\n",
    "- alcohol\n",
    "\n",
    "Output variable (based on sensory data):\n",
    "- quality (score between 0 and 10)\n",
    "\n",
    "\n",
    "You can follow the same steps that we did in class for the California Housing dataset. Here are the steps:\n"
   ]
  },
  {
   "cell_type": "markdown",
   "id": "b3bc0058",
   "metadata": {},
   "source": [
    "#### Step 0. Import the required libraries and functions"
   ]
  },
  {
   "cell_type": "code",
   "execution_count": null,
   "id": "c5269263",
   "metadata": {},
   "outputs": [],
   "source": [
    "# numpy, pandas, matplotlib, seaborn, Kfold, cross_val_score, KneighborsRegressor, StandardScaler."
   ]
  },
  {
   "cell_type": "code",
   "execution_count": 11,
   "id": "f9e20118",
   "metadata": {},
   "outputs": [],
   "source": [
    "import pandas as pd\n",
    "import matplotlib.pyplot as plt\n",
    "import seaborn as sns\n",
    "\n",
    "from sklearn.model_selection import KFold\n",
    "\n",
    "from sklearn.model_selection import cross_val_score\n",
    "from sklearn.neighbors import KNeighborsRegressor\n",
    "\n",
    "from sklearn.preprocessing import StandardScaler\n",
    "from sklearn.pipeline import make_pipeline\n",
    "\n",
    "import numpy as np"
   ]
  },
  {
   "cell_type": "markdown",
   "id": "1d435fb7",
   "metadata": {},
   "source": [
    "#### Step 1. Load the data and explore the dataset. You can also create a histograms of all the variables. Notice the histogram of wine quality. "
   ]
  },
  {
   "cell_type": "code",
   "execution_count": 74,
   "id": "1c90f52c",
   "metadata": {},
   "outputs": [],
   "source": [
    "dat = pd.read_csv(\"winequality-red.csv\")"
   ]
  },
  {
   "cell_type": "code",
   "execution_count": 38,
   "id": "a10cf74e-6753-444f-a599-b3e92940a909",
   "metadata": {
    "scrolled": true
   },
   "outputs": [
    {
     "data": {
      "text/html": [
       "<div>\n",
       "<style scoped>\n",
       "    .dataframe tbody tr th:only-of-type {\n",
       "        vertical-align: middle;\n",
       "    }\n",
       "\n",
       "    .dataframe tbody tr th {\n",
       "        vertical-align: top;\n",
       "    }\n",
       "\n",
       "    .dataframe thead th {\n",
       "        text-align: right;\n",
       "    }\n",
       "</style>\n",
       "<table border=\"1\" class=\"dataframe\">\n",
       "  <thead>\n",
       "    <tr style=\"text-align: right;\">\n",
       "      <th></th>\n",
       "      <th>fixed acidity</th>\n",
       "      <th>volatile acidity</th>\n",
       "      <th>citric acid</th>\n",
       "      <th>residual sugar</th>\n",
       "      <th>chlorides</th>\n",
       "      <th>free sulfur dioxide</th>\n",
       "      <th>total sulfur dioxide</th>\n",
       "      <th>density</th>\n",
       "      <th>pH</th>\n",
       "      <th>sulphates</th>\n",
       "      <th>alcohol</th>\n",
       "      <th>quality</th>\n",
       "    </tr>\n",
       "  </thead>\n",
       "  <tbody>\n",
       "    <tr>\n",
       "      <th>count</th>\n",
       "      <td>1599.00</td>\n",
       "      <td>1599.00</td>\n",
       "      <td>1599.00</td>\n",
       "      <td>1599.00</td>\n",
       "      <td>1599.00</td>\n",
       "      <td>1599.00</td>\n",
       "      <td>1599.00</td>\n",
       "      <td>1599.00</td>\n",
       "      <td>1599.00</td>\n",
       "      <td>1599.00</td>\n",
       "      <td>1599.00</td>\n",
       "      <td>1599.00</td>\n",
       "    </tr>\n",
       "    <tr>\n",
       "      <th>mean</th>\n",
       "      <td>8.32</td>\n",
       "      <td>0.53</td>\n",
       "      <td>0.27</td>\n",
       "      <td>2.54</td>\n",
       "      <td>0.09</td>\n",
       "      <td>15.87</td>\n",
       "      <td>46.47</td>\n",
       "      <td>1.00</td>\n",
       "      <td>3.31</td>\n",
       "      <td>0.66</td>\n",
       "      <td>10.42</td>\n",
       "      <td>5.64</td>\n",
       "    </tr>\n",
       "    <tr>\n",
       "      <th>std</th>\n",
       "      <td>1.74</td>\n",
       "      <td>0.18</td>\n",
       "      <td>0.19</td>\n",
       "      <td>1.41</td>\n",
       "      <td>0.05</td>\n",
       "      <td>10.46</td>\n",
       "      <td>32.90</td>\n",
       "      <td>0.00</td>\n",
       "      <td>0.15</td>\n",
       "      <td>0.17</td>\n",
       "      <td>1.07</td>\n",
       "      <td>0.81</td>\n",
       "    </tr>\n",
       "    <tr>\n",
       "      <th>min</th>\n",
       "      <td>4.60</td>\n",
       "      <td>0.12</td>\n",
       "      <td>0.00</td>\n",
       "      <td>0.90</td>\n",
       "      <td>0.01</td>\n",
       "      <td>1.00</td>\n",
       "      <td>6.00</td>\n",
       "      <td>0.99</td>\n",
       "      <td>2.74</td>\n",
       "      <td>0.33</td>\n",
       "      <td>8.40</td>\n",
       "      <td>3.00</td>\n",
       "    </tr>\n",
       "    <tr>\n",
       "      <th>25%</th>\n",
       "      <td>7.10</td>\n",
       "      <td>0.39</td>\n",
       "      <td>0.09</td>\n",
       "      <td>1.90</td>\n",
       "      <td>0.07</td>\n",
       "      <td>7.00</td>\n",
       "      <td>22.00</td>\n",
       "      <td>1.00</td>\n",
       "      <td>3.21</td>\n",
       "      <td>0.55</td>\n",
       "      <td>9.50</td>\n",
       "      <td>5.00</td>\n",
       "    </tr>\n",
       "    <tr>\n",
       "      <th>50%</th>\n",
       "      <td>7.90</td>\n",
       "      <td>0.52</td>\n",
       "      <td>0.26</td>\n",
       "      <td>2.20</td>\n",
       "      <td>0.08</td>\n",
       "      <td>14.00</td>\n",
       "      <td>38.00</td>\n",
       "      <td>1.00</td>\n",
       "      <td>3.31</td>\n",
       "      <td>0.62</td>\n",
       "      <td>10.20</td>\n",
       "      <td>6.00</td>\n",
       "    </tr>\n",
       "    <tr>\n",
       "      <th>75%</th>\n",
       "      <td>9.20</td>\n",
       "      <td>0.64</td>\n",
       "      <td>0.42</td>\n",
       "      <td>2.60</td>\n",
       "      <td>0.09</td>\n",
       "      <td>21.00</td>\n",
       "      <td>62.00</td>\n",
       "      <td>1.00</td>\n",
       "      <td>3.40</td>\n",
       "      <td>0.73</td>\n",
       "      <td>11.10</td>\n",
       "      <td>6.00</td>\n",
       "    </tr>\n",
       "    <tr>\n",
       "      <th>max</th>\n",
       "      <td>15.90</td>\n",
       "      <td>1.58</td>\n",
       "      <td>1.00</td>\n",
       "      <td>15.50</td>\n",
       "      <td>0.61</td>\n",
       "      <td>72.00</td>\n",
       "      <td>289.00</td>\n",
       "      <td>1.00</td>\n",
       "      <td>4.01</td>\n",
       "      <td>2.00</td>\n",
       "      <td>14.90</td>\n",
       "      <td>8.00</td>\n",
       "    </tr>\n",
       "  </tbody>\n",
       "</table>\n",
       "</div>"
      ],
      "text/plain": [
       "       fixed acidity  volatile acidity  citric acid  residual sugar  \\\n",
       "count        1599.00           1599.00      1599.00         1599.00   \n",
       "mean            8.32              0.53         0.27            2.54   \n",
       "std             1.74              0.18         0.19            1.41   \n",
       "min             4.60              0.12         0.00            0.90   \n",
       "25%             7.10              0.39         0.09            1.90   \n",
       "50%             7.90              0.52         0.26            2.20   \n",
       "75%             9.20              0.64         0.42            2.60   \n",
       "max            15.90              1.58         1.00           15.50   \n",
       "\n",
       "       chlorides  free sulfur dioxide  total sulfur dioxide  density       pH  \\\n",
       "count    1599.00              1599.00               1599.00  1599.00  1599.00   \n",
       "mean        0.09                15.87                 46.47     1.00     3.31   \n",
       "std         0.05                10.46                 32.90     0.00     0.15   \n",
       "min         0.01                 1.00                  6.00     0.99     2.74   \n",
       "25%         0.07                 7.00                 22.00     1.00     3.21   \n",
       "50%         0.08                14.00                 38.00     1.00     3.31   \n",
       "75%         0.09                21.00                 62.00     1.00     3.40   \n",
       "max         0.61                72.00                289.00     1.00     4.01   \n",
       "\n",
       "       sulphates  alcohol  quality  \n",
       "count    1599.00  1599.00  1599.00  \n",
       "mean        0.66    10.42     5.64  \n",
       "std         0.17     1.07     0.81  \n",
       "min         0.33     8.40     3.00  \n",
       "25%         0.55     9.50     5.00  \n",
       "50%         0.62    10.20     6.00  \n",
       "75%         0.73    11.10     6.00  \n",
       "max         2.00    14.90     8.00  "
      ]
     },
     "execution_count": 38,
     "metadata": {},
     "output_type": "execute_result"
    }
   ],
   "source": [
    "round(dat.describe(),2)"
   ]
  },
  {
   "cell_type": "code",
   "execution_count": 32,
   "id": "ee99dab9-ff68-4206-b592-dc6cab838984",
   "metadata": {
    "scrolled": true
   },
   "outputs": [
    {
     "data": {
      "image/png": "[encoded data removed]",
      "text/plain": [
       "<Figure size 864x720 with 12 Axes>"
      ]
     },
     "metadata": {
      "needs_background": "light"
     },
     "output_type": "display_data"
    }
   ],
   "source": [
    "dat.hist(figsize=(12, 10), bins=30, edgecolor=\"black\")\n",
    "plt.subplots_adjust(hspace=0.7, wspace=0.4)"
   ]
  },
  {
   "cell_type": "code",
   "execution_count": 18,
   "id": "d71a0858",
   "metadata": {},
   "outputs": [
    {
     "data": {
      "image/png": "[encoded data removed]",
      "text/plain": [
       "<Figure size 640x480 with 4 Axes>"
      ]
     },
     "metadata": {},
     "output_type": "display_data"
    }
   ],
   "source": [
    "# Boxplots for some of the features\n",
    "\n",
    "features_for_boxplot = ['fixed acidity', 'volatile acidity', 'citric acid', 'residual sugar']   \n",
    "\n",
    "\n",
    "# Creating subplot axes\n",
    "fig, axes = plt.subplots(4,1)\n",
    "\n",
    "\n",
    "# Iterating through axes and names\n",
    "for name, ax in zip(features_for_boxplot, axes.flatten()):\n",
    "    sns.boxplot(x=dat[name], ax=ax) # ax=ax m\n",
    "    plt.tight_layout()"
   ]
  },
  {
   "cell_type": "code",
   "execution_count": 19,
   "id": "9a0020ad",
   "metadata": {},
   "outputs": [
    {
     "data": {
      "image/png": "[encoded data removed]",
      "text/plain": [
       "<Figure size 640x480 with 4 Axes>"
      ]
     },
     "metadata": {},
     "output_type": "display_data"
    }
   ],
   "source": [
    "# Boxplots for some of the features\n",
    "\n",
    "features_for_boxplot = ['chlorides', 'free sulfur dioxide', 'total sulfur dioxide', 'density']\n",
    "\n",
    "\n",
    "# Creating subplot axes\n",
    "fig, axes = plt.subplots(4,1)\n",
    "\n",
    "\n",
    "# Iterating through axes and names\n",
    "for name, ax in zip(features_for_boxplot, axes.flatten()):\n",
    "    sns.boxplot(x=dat[name], ax=ax) # ax=ax m\n",
    "    plt.tight_layout()"
   ]
  },
  {
   "cell_type": "code",
   "execution_count": 20,
   "id": "489a1da4",
   "metadata": {},
   "outputs": [
    {
     "data": {
      "image/png": "[encoded data removed]",
      "text/plain": [
       "<Figure size 640x480 with 4 Axes>"
      ]
     },
     "metadata": {},
     "output_type": "display_data"
    }
   ],
   "source": [
    "# Boxplots for some of the features\n",
    "\n",
    "features_for_boxplot = ['pH', 'sulphates', 'alcohol', 'quality']\n",
    "\n",
    "# Creating subplot axes\n",
    "fig, axes = plt.subplots(4,1)\n",
    "\n",
    "\n",
    "# Iterating through axes and names\n",
    "for name, ax in zip(features_for_boxplot, axes.flatten()):\n",
    "    sns.boxplot(x=dat[name], ax=ax)\n",
    "    plt.tight_layout()"
   ]
  },
  {
   "cell_type": "markdown",
   "id": "6e590a48",
   "metadata": {},
   "source": [
    "#### Step 2. Find the most correlated features with the wine quality"
   ]
  },
  {
   "cell_type": "code",
   "execution_count": 22,
   "id": "ed359c94",
   "metadata": {},
   "outputs": [
    {
     "data": {
      "text/html": [
       "<div>\n",
       "<style scoped>\n",
       "    .dataframe tbody tr th:only-of-type {\n",
       "        vertical-align: middle;\n",
       "    }\n",
       "\n",
       "    .dataframe tbody tr th {\n",
       "        vertical-align: top;\n",
       "    }\n",
       "\n",
       "    .dataframe thead th {\n",
       "        text-align: right;\n",
       "    }\n",
       "</style>\n",
       "<table border=\"1\" class=\"dataframe\">\n",
       "  <thead>\n",
       "    <tr style=\"text-align: right;\">\n",
       "      <th></th>\n",
       "      <th>fixed acidity</th>\n",
       "      <th>volatile acidity</th>\n",
       "      <th>citric acid</th>\n",
       "      <th>residual sugar</th>\n",
       "      <th>chlorides</th>\n",
       "      <th>free sulfur dioxide</th>\n",
       "      <th>total sulfur dioxide</th>\n",
       "      <th>density</th>\n",
       "      <th>pH</th>\n",
       "      <th>sulphates</th>\n",
       "      <th>alcohol</th>\n",
       "      <th>quality</th>\n",
       "    </tr>\n",
       "  </thead>\n",
       "  <tbody>\n",
       "    <tr>\n",
       "      <th>fixed acidity</th>\n",
       "      <td>1.00</td>\n",
       "      <td>-0.26</td>\n",
       "      <td>0.67</td>\n",
       "      <td>0.11</td>\n",
       "      <td>0.09</td>\n",
       "      <td>-0.15</td>\n",
       "      <td>-0.11</td>\n",
       "      <td>0.67</td>\n",
       "      <td>-0.68</td>\n",
       "      <td>0.18</td>\n",
       "      <td>-0.06</td>\n",
       "      <td>0.12</td>\n",
       "    </tr>\n",
       "    <tr>\n",
       "      <th>volatile acidity</th>\n",
       "      <td>-0.26</td>\n",
       "      <td>1.00</td>\n",
       "      <td>-0.55</td>\n",
       "      <td>0.00</td>\n",
       "      <td>0.06</td>\n",
       "      <td>-0.01</td>\n",
       "      <td>0.08</td>\n",
       "      <td>0.02</td>\n",
       "      <td>0.23</td>\n",
       "      <td>-0.26</td>\n",
       "      <td>-0.20</td>\n",
       "      <td>-0.39</td>\n",
       "    </tr>\n",
       "    <tr>\n",
       "      <th>citric acid</th>\n",
       "      <td>0.67</td>\n",
       "      <td>-0.55</td>\n",
       "      <td>1.00</td>\n",
       "      <td>0.14</td>\n",
       "      <td>0.20</td>\n",
       "      <td>-0.06</td>\n",
       "      <td>0.04</td>\n",
       "      <td>0.36</td>\n",
       "      <td>-0.54</td>\n",
       "      <td>0.31</td>\n",
       "      <td>0.11</td>\n",
       "      <td>0.23</td>\n",
       "    </tr>\n",
       "    <tr>\n",
       "      <th>residual sugar</th>\n",
       "      <td>0.11</td>\n",
       "      <td>0.00</td>\n",
       "      <td>0.14</td>\n",
       "      <td>1.00</td>\n",
       "      <td>0.06</td>\n",
       "      <td>0.19</td>\n",
       "      <td>0.20</td>\n",
       "      <td>0.36</td>\n",
       "      <td>-0.09</td>\n",
       "      <td>0.01</td>\n",
       "      <td>0.04</td>\n",
       "      <td>0.01</td>\n",
       "    </tr>\n",
       "    <tr>\n",
       "      <th>chlorides</th>\n",
       "      <td>0.09</td>\n",
       "      <td>0.06</td>\n",
       "      <td>0.20</td>\n",
       "      <td>0.06</td>\n",
       "      <td>1.00</td>\n",
       "      <td>0.01</td>\n",
       "      <td>0.05</td>\n",
       "      <td>0.20</td>\n",
       "      <td>-0.27</td>\n",
       "      <td>0.37</td>\n",
       "      <td>-0.22</td>\n",
       "      <td>-0.13</td>\n",
       "    </tr>\n",
       "    <tr>\n",
       "      <th>free sulfur dioxide</th>\n",
       "      <td>-0.15</td>\n",
       "      <td>-0.01</td>\n",
       "      <td>-0.06</td>\n",
       "      <td>0.19</td>\n",
       "      <td>0.01</td>\n",
       "      <td>1.00</td>\n",
       "      <td>0.67</td>\n",
       "      <td>-0.02</td>\n",
       "      <td>0.07</td>\n",
       "      <td>0.05</td>\n",
       "      <td>-0.07</td>\n",
       "      <td>-0.05</td>\n",
       "    </tr>\n",
       "    <tr>\n",
       "      <th>total sulfur dioxide</th>\n",
       "      <td>-0.11</td>\n",
       "      <td>0.08</td>\n",
       "      <td>0.04</td>\n",
       "      <td>0.20</td>\n",
       "      <td>0.05</td>\n",
       "      <td>0.67</td>\n",
       "      <td>1.00</td>\n",
       "      <td>0.07</td>\n",
       "      <td>-0.07</td>\n",
       "      <td>0.04</td>\n",
       "      <td>-0.21</td>\n",
       "      <td>-0.19</td>\n",
       "    </tr>\n",
       "    <tr>\n",
       "      <th>density</th>\n",
       "      <td>0.67</td>\n",
       "      <td>0.02</td>\n",
       "      <td>0.36</td>\n",
       "      <td>0.36</td>\n",
       "      <td>0.20</td>\n",
       "      <td>-0.02</td>\n",
       "      <td>0.07</td>\n",
       "      <td>1.00</td>\n",
       "      <td>-0.34</td>\n",
       "      <td>0.15</td>\n",
       "      <td>-0.50</td>\n",
       "      <td>-0.17</td>\n",
       "    </tr>\n",
       "    <tr>\n",
       "      <th>pH</th>\n",
       "      <td>-0.68</td>\n",
       "      <td>0.23</td>\n",
       "      <td>-0.54</td>\n",
       "      <td>-0.09</td>\n",
       "      <td>-0.27</td>\n",
       "      <td>0.07</td>\n",
       "      <td>-0.07</td>\n",
       "      <td>-0.34</td>\n",
       "      <td>1.00</td>\n",
       "      <td>-0.20</td>\n",
       "      <td>0.21</td>\n",
       "      <td>-0.06</td>\n",
       "    </tr>\n",
       "    <tr>\n",
       "      <th>sulphates</th>\n",
       "      <td>0.18</td>\n",
       "      <td>-0.26</td>\n",
       "      <td>0.31</td>\n",
       "      <td>0.01</td>\n",
       "      <td>0.37</td>\n",
       "      <td>0.05</td>\n",
       "      <td>0.04</td>\n",
       "      <td>0.15</td>\n",
       "      <td>-0.20</td>\n",
       "      <td>1.00</td>\n",
       "      <td>0.09</td>\n",
       "      <td>0.25</td>\n",
       "    </tr>\n",
       "    <tr>\n",
       "      <th>alcohol</th>\n",
       "      <td>-0.06</td>\n",
       "      <td>-0.20</td>\n",
       "      <td>0.11</td>\n",
       "      <td>0.04</td>\n",
       "      <td>-0.22</td>\n",
       "      <td>-0.07</td>\n",
       "      <td>-0.21</td>\n",
       "      <td>-0.50</td>\n",
       "      <td>0.21</td>\n",
       "      <td>0.09</td>\n",
       "      <td>1.00</td>\n",
       "      <td>0.48</td>\n",
       "    </tr>\n",
       "    <tr>\n",
       "      <th>quality</th>\n",
       "      <td>0.12</td>\n",
       "      <td>-0.39</td>\n",
       "      <td>0.23</td>\n",
       "      <td>0.01</td>\n",
       "      <td>-0.13</td>\n",
       "      <td>-0.05</td>\n",
       "      <td>-0.19</td>\n",
       "      <td>-0.17</td>\n",
       "      <td>-0.06</td>\n",
       "      <td>0.25</td>\n",
       "      <td>0.48</td>\n",
       "      <td>1.00</td>\n",
       "    </tr>\n",
       "  </tbody>\n",
       "</table>\n",
       "</div>"
      ],
      "text/plain": [
       "                      fixed acidity  volatile acidity  citric acid  \\\n",
       "fixed acidity                  1.00             -0.26         0.67   \n",
       "volatile acidity              -0.26              1.00        -0.55   \n",
       "citric acid                    0.67             -0.55         1.00   \n",
       "residual sugar                 0.11              0.00         0.14   \n",
       "chlorides                      0.09              0.06         0.20   \n",
       "free sulfur dioxide           -0.15             -0.01        -0.06   \n",
       "total sulfur dioxide          -0.11              0.08         0.04   \n",
       "density                        0.67              0.02         0.36   \n",
       "pH                            -0.68              0.23        -0.54   \n",
       "sulphates                      0.18             -0.26         0.31   \n",
       "alcohol                       -0.06             -0.20         0.11   \n",
       "quality                        0.12             -0.39         0.23   \n",
       "\n",
       "                      residual sugar  chlorides  free sulfur dioxide  \\\n",
       "fixed acidity                   0.11       0.09                -0.15   \n",
       "volatile acidity                0.00       0.06                -0.01   \n",
       "citric acid                     0.14       0.20                -0.06   \n",
       "residual sugar                  1.00       0.06                 0.19   \n",
       "chlorides                       0.06       1.00                 0.01   \n",
       "free sulfur dioxide             0.19       0.01                 1.00   \n",
       "total sulfur dioxide            0.20       0.05                 0.67   \n",
       "density                         0.36       0.20                -0.02   \n",
       "pH                             -0.09      -0.27                 0.07   \n",
       "sulphates                       0.01       0.37                 0.05   \n",
       "alcohol                         0.04      -0.22                -0.07   \n",
       "quality                         0.01      -0.13                -0.05   \n",
       "\n",
       "                      total sulfur dioxide  density    pH  sulphates  alcohol  \\\n",
       "fixed acidity                        -0.11     0.67 -0.68       0.18    -0.06   \n",
       "volatile acidity                      0.08     0.02  0.23      -0.26    -0.20   \n",
       "citric acid                           0.04     0.36 -0.54       0.31     0.11   \n",
       "residual sugar                        0.20     0.36 -0.09       0.01     0.04   \n",
       "chlorides                             0.05     0.20 -0.27       0.37    -0.22   \n",
       "free sulfur dioxide                   0.67    -0.02  0.07       0.05    -0.07   \n",
       "total sulfur dioxide                  1.00     0.07 -0.07       0.04    -0.21   \n",
       "density                               0.07     1.00 -0.34       0.15    -0.50   \n",
       "pH                                   -0.07    -0.34  1.00      -0.20     0.21   \n",
       "sulphates                             0.04     0.15 -0.20       1.00     0.09   \n",
       "alcohol                              -0.21    -0.50  0.21       0.09     1.00   \n",
       "quality                              -0.19    -0.17 -0.06       0.25     0.48   \n",
       "\n",
       "                      quality  \n",
       "fixed acidity            0.12  \n",
       "volatile acidity        -0.39  \n",
       "citric acid              0.23  \n",
       "residual sugar           0.01  \n",
       "chlorides               -0.13  \n",
       "free sulfur dioxide     -0.05  \n",
       "total sulfur dioxide    -0.19  \n",
       "density                 -0.17  \n",
       "pH                      -0.06  \n",
       "sulphates                0.25  \n",
       "alcohol                  0.48  \n",
       "quality                  1.00  "
      ]
     },
     "execution_count": 22,
     "metadata": {},
     "output_type": "execute_result"
    }
   ],
   "source": [
    "df_corr = dat.corr()\n",
    "round(df_corr,2)"
   ]
  },
  {
   "cell_type": "code",
   "execution_count": 24,
   "id": "7d3ab0bd",
   "metadata": {},
   "outputs": [
    {
     "data": {
      "text/html": [
       "<div>\n",
       "<style scoped>\n",
       "    .dataframe tbody tr th:only-of-type {\n",
       "        vertical-align: middle;\n",
       "    }\n",
       "\n",
       "    .dataframe tbody tr th {\n",
       "        vertical-align: top;\n",
       "    }\n",
       "\n",
       "    .dataframe thead th {\n",
       "        text-align: right;\n",
       "    }\n",
       "</style>\n",
       "<table border=\"1\" class=\"dataframe\">\n",
       "  <thead>\n",
       "    <tr style=\"text-align: right;\">\n",
       "      <th></th>\n",
       "      <th>quality</th>\n",
       "    </tr>\n",
       "  </thead>\n",
       "  <tbody>\n",
       "    <tr>\n",
       "      <th>quality</th>\n",
       "      <td>1.00</td>\n",
       "    </tr>\n",
       "    <tr>\n",
       "      <th>alcohol</th>\n",
       "      <td>0.48</td>\n",
       "    </tr>\n",
       "    <tr>\n",
       "      <th>volatile acidity</th>\n",
       "      <td>0.39</td>\n",
       "    </tr>\n",
       "    <tr>\n",
       "      <th>sulphates</th>\n",
       "      <td>0.25</td>\n",
       "    </tr>\n",
       "    <tr>\n",
       "      <th>citric acid</th>\n",
       "      <td>0.23</td>\n",
       "    </tr>\n",
       "    <tr>\n",
       "      <th>total sulfur dioxide</th>\n",
       "      <td>0.19</td>\n",
       "    </tr>\n",
       "    <tr>\n",
       "      <th>density</th>\n",
       "      <td>0.17</td>\n",
       "    </tr>\n",
       "    <tr>\n",
       "      <th>chlorides</th>\n",
       "      <td>0.13</td>\n",
       "    </tr>\n",
       "    <tr>\n",
       "      <th>fixed acidity</th>\n",
       "      <td>0.12</td>\n",
       "    </tr>\n",
       "    <tr>\n",
       "      <th>pH</th>\n",
       "      <td>0.06</td>\n",
       "    </tr>\n",
       "    <tr>\n",
       "      <th>free sulfur dioxide</th>\n",
       "      <td>0.05</td>\n",
       "    </tr>\n",
       "    <tr>\n",
       "      <th>residual sugar</th>\n",
       "      <td>0.01</td>\n",
       "    </tr>\n",
       "  </tbody>\n",
       "</table>\n",
       "</div>"
      ],
      "text/plain": [
       "                      quality\n",
       "quality                  1.00\n",
       "alcohol                  0.48\n",
       "volatile acidity         0.39\n",
       "sulphates                0.25\n",
       "citric acid              0.23\n",
       "total sulfur dioxide     0.19\n",
       "density                  0.17\n",
       "chlorides                0.13\n",
       "fixed acidity            0.12\n",
       "pH                       0.06\n",
       "free sulfur dioxide      0.05\n",
       "residual sugar           0.01"
      ]
     },
     "execution_count": 24,
     "metadata": {},
     "output_type": "execute_result"
    }
   ],
   "source": [
    "#### The features that are most correlated with wine quality are: alcohol, volatile acidity, sulphates, and citric acid\n",
    "round(abs(df_corr[['quality']]).sort_values(by = 'quality', ascending = False),2)"
   ]
  },
  {
   "cell_type": "markdown",
   "id": "594f11fe",
   "metadata": {},
   "source": [
    "#### Step 3. Create X and y vectors. Scale the features by using the standard scalar. To do so, you need to create a scaler object and use the function *fit_transform*, and apply it on the array of features. Here's an example on how to do this:"
   ]
  },
  {
   "cell_type": "code",
   "execution_count": null,
   "id": "149e5f52",
   "metadata": {},
   "outputs": [],
   "source": [
    "# define standard scaler\n",
    "scaler = StandardScaler()\n",
    "# transform data\n",
    "X_scaled = scaler.fit_transform(X)\n",
    "print(X_scaled)"
   ]
  },
  {
   "cell_type": "code",
   "execution_count": 29,
   "id": "1dd668dc",
   "metadata": {},
   "outputs": [
    {
     "data": {
      "text/html": [
       "<div>\n",
       "<style scoped>\n",
       "    .dataframe tbody tr th:only-of-type {\n",
       "        vertical-align: middle;\n",
       "    }\n",
       "\n",
       "    .dataframe tbody tr th {\n",
       "        vertical-align: top;\n",
       "    }\n",
       "\n",
       "    .dataframe thead th {\n",
       "        text-align: right;\n",
       "    }\n",
       "</style>\n",
       "<table border=\"1\" class=\"dataframe\">\n",
       "  <thead>\n",
       "    <tr style=\"text-align: right;\">\n",
       "      <th></th>\n",
       "      <th>fixed acidity</th>\n",
       "      <th>volatile acidity</th>\n",
       "      <th>citric acid</th>\n",
       "      <th>residual sugar</th>\n",
       "      <th>chlorides</th>\n",
       "      <th>free sulfur dioxide</th>\n",
       "      <th>total sulfur dioxide</th>\n",
       "      <th>density</th>\n",
       "      <th>pH</th>\n",
       "      <th>sulphates</th>\n",
       "      <th>alcohol</th>\n",
       "      <th>quality</th>\n",
       "    </tr>\n",
       "  </thead>\n",
       "  <tbody>\n",
       "    <tr>\n",
       "      <th>count</th>\n",
       "      <td>1599.00</td>\n",
       "      <td>1599.00</td>\n",
       "      <td>1599.00</td>\n",
       "      <td>1599.00</td>\n",
       "      <td>1599.00</td>\n",
       "      <td>1599.00</td>\n",
       "      <td>1599.00</td>\n",
       "      <td>1599.00</td>\n",
       "      <td>1599.00</td>\n",
       "      <td>1599.00</td>\n",
       "      <td>1599.00</td>\n",
       "      <td>1599.00</td>\n",
       "    </tr>\n",
       "    <tr>\n",
       "      <th>mean</th>\n",
       "      <td>0.00</td>\n",
       "      <td>0.00</td>\n",
       "      <td>0.00</td>\n",
       "      <td>-0.00</td>\n",
       "      <td>0.00</td>\n",
       "      <td>0.00</td>\n",
       "      <td>0.00</td>\n",
       "      <td>-0.00</td>\n",
       "      <td>0.00</td>\n",
       "      <td>0.00</td>\n",
       "      <td>0.00</td>\n",
       "      <td>-0.00</td>\n",
       "    </tr>\n",
       "    <tr>\n",
       "      <th>std</th>\n",
       "      <td>1.00</td>\n",
       "      <td>1.00</td>\n",
       "      <td>1.00</td>\n",
       "      <td>1.00</td>\n",
       "      <td>1.00</td>\n",
       "      <td>1.00</td>\n",
       "      <td>1.00</td>\n",
       "      <td>1.00</td>\n",
       "      <td>1.00</td>\n",
       "      <td>1.00</td>\n",
       "      <td>1.00</td>\n",
       "      <td>1.00</td>\n",
       "    </tr>\n",
       "    <tr>\n",
       "      <th>min</th>\n",
       "      <td>-2.14</td>\n",
       "      <td>-2.28</td>\n",
       "      <td>-1.39</td>\n",
       "      <td>-1.16</td>\n",
       "      <td>-1.60</td>\n",
       "      <td>-1.42</td>\n",
       "      <td>-1.23</td>\n",
       "      <td>-3.54</td>\n",
       "      <td>-3.70</td>\n",
       "      <td>-1.94</td>\n",
       "      <td>-1.90</td>\n",
       "      <td>-3.27</td>\n",
       "    </tr>\n",
       "    <tr>\n",
       "      <th>25%</th>\n",
       "      <td>-0.70</td>\n",
       "      <td>-0.77</td>\n",
       "      <td>-0.93</td>\n",
       "      <td>-0.45</td>\n",
       "      <td>-0.37</td>\n",
       "      <td>-0.85</td>\n",
       "      <td>-0.74</td>\n",
       "      <td>-0.61</td>\n",
       "      <td>-0.66</td>\n",
       "      <td>-0.64</td>\n",
       "      <td>-0.87</td>\n",
       "      <td>-0.79</td>\n",
       "    </tr>\n",
       "    <tr>\n",
       "      <th>50%</th>\n",
       "      <td>-0.24</td>\n",
       "      <td>-0.04</td>\n",
       "      <td>-0.06</td>\n",
       "      <td>-0.24</td>\n",
       "      <td>-0.18</td>\n",
       "      <td>-0.18</td>\n",
       "      <td>-0.26</td>\n",
       "      <td>0.00</td>\n",
       "      <td>-0.01</td>\n",
       "      <td>-0.23</td>\n",
       "      <td>-0.21</td>\n",
       "      <td>0.45</td>\n",
       "    </tr>\n",
       "    <tr>\n",
       "      <th>75%</th>\n",
       "      <td>0.51</td>\n",
       "      <td>0.63</td>\n",
       "      <td>0.77</td>\n",
       "      <td>0.04</td>\n",
       "      <td>0.05</td>\n",
       "      <td>0.49</td>\n",
       "      <td>0.47</td>\n",
       "      <td>0.58</td>\n",
       "      <td>0.58</td>\n",
       "      <td>0.42</td>\n",
       "      <td>0.64</td>\n",
       "      <td>0.45</td>\n",
       "    </tr>\n",
       "    <tr>\n",
       "      <th>max</th>\n",
       "      <td>4.36</td>\n",
       "      <td>5.88</td>\n",
       "      <td>3.74</td>\n",
       "      <td>9.20</td>\n",
       "      <td>11.13</td>\n",
       "      <td>5.37</td>\n",
       "      <td>7.38</td>\n",
       "      <td>3.68</td>\n",
       "      <td>4.53</td>\n",
       "      <td>7.92</td>\n",
       "      <td>4.20</td>\n",
       "      <td>2.93</td>\n",
       "    </tr>\n",
       "  </tbody>\n",
       "</table>\n",
       "</div>"
      ],
      "text/plain": [
       "       fixed acidity  volatile acidity  citric acid  residual sugar  \\\n",
       "count        1599.00           1599.00      1599.00         1599.00   \n",
       "mean            0.00              0.00         0.00           -0.00   \n",
       "std             1.00              1.00         1.00            1.00   \n",
       "min            -2.14             -2.28        -1.39           -1.16   \n",
       "25%            -0.70             -0.77        -0.93           -0.45   \n",
       "50%            -0.24             -0.04        -0.06           -0.24   \n",
       "75%             0.51              0.63         0.77            0.04   \n",
       "max             4.36              5.88         3.74            9.20   \n",
       "\n",
       "       chlorides  free sulfur dioxide  total sulfur dioxide  density       pH  \\\n",
       "count    1599.00              1599.00               1599.00  1599.00  1599.00   \n",
       "mean        0.00                 0.00                  0.00    -0.00     0.00   \n",
       "std         1.00                 1.00                  1.00     1.00     1.00   \n",
       "min        -1.60                -1.42                 -1.23    -3.54    -3.70   \n",
       "25%        -0.37                -0.85                 -0.74    -0.61    -0.66   \n",
       "50%        -0.18                -0.18                 -0.26     0.00    -0.01   \n",
       "75%         0.05                 0.49                  0.47     0.58     0.58   \n",
       "max        11.13                 5.37                  7.38     3.68     4.53   \n",
       "\n",
       "       sulphates  alcohol  quality  \n",
       "count    1599.00  1599.00  1599.00  \n",
       "mean        0.00     0.00    -0.00  \n",
       "std         1.00     1.00     1.00  \n",
       "min        -1.94    -1.90    -3.27  \n",
       "25%        -0.64    -0.87    -0.79  \n",
       "50%        -0.23    -0.21     0.45  \n",
       "75%         0.42     0.64     0.45  \n",
       "max         7.92     4.20     2.93  "
      ]
     },
     "execution_count": 29,
     "metadata": {},
     "output_type": "execute_result"
    }
   ],
   "source": [
    "dat_scaled = dat.copy()\n",
    "for feature in dat_scaled.columns:\n",
    "    dat_scaled[feature] = scaler.fit_transform(dat[[feature]])\n",
    "\n",
    "round(dat_scaled.describe(),2)"
   ]
  },
  {
   "cell_type": "markdown",
   "id": "858e5f67",
   "metadata": {},
   "source": [
    "#### Step 4. Choose the best $k$ by using cross validation. Make sure to use the same cross validation splits for each evaluation of $k$ using the KFold function. Also, use the scaled features that you created in Step 3"
   ]
  },
  {
   "cell_type": "code",
   "execution_count": 40,
   "id": "65efd508",
   "metadata": {},
   "outputs": [],
   "source": [
    "X = dat_scaled[['alcohol','volatile acidity','sulphates', 'citric acid']]\n",
    "\n",
    "y = dat_scaled[['quality']]"
   ]
  },
  {
   "cell_type": "code",
   "execution_count": 41,
   "id": "e5bcf5b9",
   "metadata": {},
   "outputs": [],
   "source": [
    "Rsquared = []\n",
    "for k in range(1,51):\n",
    "    knn = KNeighborsRegressor(n_neighbors=k)\n",
    "    scores = cross_val_score(knn, X, y, cv=5)\n",
    "    Rsquared.append(scores.mean()) "
   ]
  },
  {
   "cell_type": "code",
   "execution_count": 71,
   "id": "21ef1fc3",
   "metadata": {},
   "outputs": [
    {
     "name": "stdout",
     "output_type": "stream",
     "text": [
      "Best k for model is  9\n"
     ]
    }
   ],
   "source": [
    "print(\"Best k for model is \",range(1,51)[np.argmax(Rsquared)])"
   ]
  },
  {
   "cell_type": "markdown",
   "id": "02cf9927",
   "metadata": {},
   "source": [
    "### What is the $R^2$ for the best model? Do you think this machine learning model can replace professional wine tasters?"
   ]
  },
  {
   "cell_type": "code",
   "execution_count": 43,
   "id": "d4346787",
   "metadata": {
    "scrolled": true
   },
   "outputs": [
    {
     "data": {
      "text/plain": [
       "0.29859664943409914"
      ]
     },
     "execution_count": 43,
     "metadata": {},
     "output_type": "execute_result"
    }
   ],
   "source": [
    "max(Rsquared)"
   ]
  },
  {
   "cell_type": "markdown",
   "id": "49c57c56",
   "metadata": {},
   "source": [
    "Professional wine tasters have an accuracy of $71/%$, while the knn model accuracy is far from it so it cannot replace the professional."
   ]
  },
  {
   "cell_type": "markdown",
   "id": "76901580",
   "metadata": {},
   "source": [
    "### Find the R^2 for a linear regression model using k fold cross validation. Is KNN better than Linear regression?"
   ]
  },
  {
   "cell_type": "code",
   "execution_count": 75,
   "id": "643f145a",
   "metadata": {},
   "outputs": [
    {
     "data": {
      "text/plain": [
       "0.27288754290058204"
      ]
     },
     "execution_count": 75,
     "metadata": {},
     "output_type": "execute_result"
    }
   ],
   "source": [
    "from sklearn.linear_model import LinearRegression\n",
    "X = dat[['alcohol','volatile acidity','sulphates', 'citric acid']]\n",
    "\n",
    "y = dat[['quality']]\n",
    "\n",
    "linearReg_pipeline = make_pipeline(StandardScaler(), LinearRegression())\n",
    "scores = cross_val_score(linearReg_pipeline, X, y, cv=5)\n",
    "scores.mean()"
   ]
  },
  {
   "cell_type": "markdown",
   "id": "11a3e464",
   "metadata": {},
   "source": [
    "Yes. Linear regression model was not better at predicting quality based on the R^2 result."
   ]
  },
  {
   "cell_type": "markdown",
   "id": "cdccc05b",
   "metadata": {},
   "source": [
    "# Problem 2: Feature selection using cross validation\n",
    "\n",
    "In this problem, we will take a different approach towards feature selection and choosing the best value of $k$. We will be working with the california housing dataset. Recall that in class we used the correlation between median prices and features to pick the most predictive features. Using correlation, we selected the following features:\n",
    "\n",
    "- MedInc\n",
    "- HouseAge\n",
    "- AveRooms\n",
    "- Latitude\n",
    "- Longitude\n",
    "\n",
    "Now we will do a more refined feature selection by using the $R^2$ of knn models with different features. We will fit 3 different model families:\n",
    "1. knn with varying k, and features = 'Latitude' and 'Longitude'\n",
    "\n",
    "2. knn with varying k, and features = 'Latitude', 'Longitude', 'MedInc'\n",
    "\n",
    "3. knn with varying k, and features = 'Latitude', 'Longitude', 'MedInc' and 'HouseAge'\n",
    " \n",
    "I will guide you through the process step by step\n"
   ]
  },
  {
   "cell_type": "code",
   "execution_count": null,
   "id": "c2f46b6b",
   "metadata": {},
   "outputs": [],
   "source": [
    "#### Step 0: import the following functions: \n",
    "# numpy, pandas,  matplotlib, KFold, cross_val_score, KNeigbhorRegressor, StandardScaler"
   ]
  },
  {
   "cell_type": "code",
   "execution_count": null,
   "id": "387335a9",
   "metadata": {},
   "outputs": [],
   "source": [
    "import pandas as pd\n",
    "import matplotlib.pyplot as plt\n",
    "import seaborn as sns\n",
    "\n",
    "from sklearn.model_selection import KFold\n",
    "\n",
    "from sklearn.model_selection import cross_val_score\n",
    "from sklearn.neighbors import KNeighborsRegressor\n",
    "\n",
    "from sklearn.preprocessing import StandardScaler\n",
    "from sklearn.pipeline import make_pipeline\n",
    "\n",
    "import numpy as np"
   ]
  },
  {
   "cell_type": "code",
   "execution_count": null,
   "id": "14e8ca66",
   "metadata": {},
   "outputs": [],
   "source": [
    "#### Step 1: Load the california_housing.txt file"
   ]
  },
  {
   "cell_type": "code",
   "execution_count": 54,
   "id": "26a2ab08",
   "metadata": {},
   "outputs": [],
   "source": [
    "housing = pd.read_csv(\"california_housing-1.txt\")"
   ]
  },
  {
   "cell_type": "code",
   "execution_count": 51,
   "id": "f481080c",
   "metadata": {},
   "outputs": [],
   "source": [
    "#### Step 2: create a crossvalidation object using the Kfold function. Use 5 splits."
   ]
  },
  {
   "cell_type": "code",
   "execution_count": 61,
   "id": "eacc2677",
   "metadata": {},
   "outputs": [],
   "source": [
    "cvdata = KFold(n_splits=5, random_state=0,shuffle=True)"
   ]
  },
  {
   "cell_type": "code",
   "execution_count": null,
   "id": "34dc3186",
   "metadata": {},
   "outputs": [],
   "source": [
    "#### Step 3: Now we will use the features latitutde and longitude only to predict median house price.\n",
    "#We will find the best 'k' by using cross validation with features \"Latitutde\" and \"longitude\".\n",
    "#We have to make sure to scale the data by using the standard scaler (Use the function fit_transform() for scaling)\n",
    "#Here are the steps\n",
    "\n",
    "## Step 3.1 Create a array of features 'latitude' and 'longitude' and scale them using a standard scaler. \n",
    "# You can also transform the y using np.log() function\n"
   ]
  },
  {
   "cell_type": "code",
   "execution_count": 59,
   "id": "9f31a607",
   "metadata": {},
   "outputs": [],
   "source": [
    "X = housing[['Latitude','Longitude']]\n",
    "\n",
    "y = housing[['MedHouseVal']]\n",
    "\n",
    "# define standard scaler\n",
    "scaler = StandardScaler()\n",
    "# transform data\n",
    "X_scaled = scaler.fit_transform(X)\n",
    "Y_scaled = scaler.fit_transform(y)"
   ]
  },
  {
   "cell_type": "code",
   "execution_count": null,
   "id": "a5814a99",
   "metadata": {},
   "outputs": [],
   "source": [
    "## Step 3.2 Run a cross validation for k ranging from 1 to 50. Compute the Rsquared for each k and store it in a list.\n",
    "#Make sure to use the scaled features, and also use the cross validation object created in step 2\n",
    " "
   ]
  },
  {
   "cell_type": "code",
   "execution_count": 60,
   "id": "35d05a9d",
   "metadata": {},
   "outputs": [],
   "source": [
    "Rsquared = []\n",
    "for k in range(1,51):   \n",
    "    knn = KNeighborsRegressor(n_neighbors=k)\n",
    "    scores = cross_val_score(knn, X_scaled, Y_scaled, cv=cvdata)\n",
    "    Rsquared.append(scores.mean()) \n",
    "\n"
   ]
  },
  {
   "cell_type": "code",
   "execution_count": 56,
   "id": "e1ed6385",
   "metadata": {},
   "outputs": [],
   "source": [
    "# Step 3.3 Plot the values of k vs Rsquared. Find the best RMSE and the corresponding value of k"
   ]
  },
  {
   "cell_type": "code",
   "execution_count": 62,
   "id": "d96e88ea",
   "metadata": {
    "scrolled": true
   },
   "outputs": [
    {
     "data": {
      "text/plain": [
       "[<matplotlib.lines.Line2D at 0x28049bef310>]"
      ]
     },
     "execution_count": 62,
     "metadata": {},
     "output_type": "execute_result"
    },
    {
     "data": {
      "image/png": "[encoded data removed]",
      "text/plain": [
       "<Figure size 640x480 with 1 Axes>"
      ]
     },
     "metadata": {},
     "output_type": "display_data"
    }
   ],
   "source": [
    "plt.plot(range(1,51),Rsquared)"
   ]
  },
  {
   "cell_type": "code",
   "execution_count": 66,
   "id": "4090eb6f-722c-43ba-93bf-ac7b9ccec00d",
   "metadata": {},
   "outputs": [
    {
     "name": "stdout",
     "output_type": "stream",
     "text": [
      "The best RMSE is  0.79 and the corresponding value of k is  7\n"
     ]
    }
   ],
   "source": [
    "print(\"The best RMSE is \",round(max(Rsquared),2),\"and the corresponding value of k is \",range(1,51)[np.argmax(Rsquared)])"
   ]
  },
  {
   "cell_type": "code",
   "execution_count": null,
   "id": "c969c02e",
   "metadata": {},
   "outputs": [],
   "source": [
    "# Step 4: Now repeat all the steps in Step 3,but this time  using the features 'Latitude\", 'Longitude', 'MedInc'"
   ]
  },
  {
   "cell_type": "code",
   "execution_count": 68,
   "id": "9f6e0e75",
   "metadata": {},
   "outputs": [
    {
     "name": "stdout",
     "output_type": "stream",
     "text": [
      "The best RMSE is  0.77 and the corresponding value of k is  7\n"
     ]
    },
    {
     "data": {
      "image/png": "[encoded data removed]",
      "text/plain": [
       "<Figure size 640x480 with 1 Axes>"
      ]
     },
     "metadata": {},
     "output_type": "display_data"
    }
   ],
   "source": [
    "X = housing[['MedInc','Latitude','Longitude']]\n",
    "\n",
    "y = housing[['MedHouseVal']]\n",
    "\n",
    "# define standard scaler\n",
    "scaler = StandardScaler()\n",
    "# transform data\n",
    "X_scaled = scaler.fit_transform(X)\n",
    "Y_scaled = scaler.fit_transform(y)\n",
    "\n",
    "Rsquared = []\n",
    "for k in range(1,51):   \n",
    "    knn = KNeighborsRegressor(n_neighbors=k)\n",
    "    scores = cross_val_score(knn, X_scaled, Y_scaled, cv=cvdata)\n",
    "    Rsquared.append(scores.mean()) \n",
    "    \n",
    "plt.plot(range(1,51),Rsquared)\n",
    "print(\"The best RMSE is \",round(max(Rsquared),2),\"and the corresponding value of k is \",range(1,51)[np.argmax(Rsquared)])"
   ]
  },
  {
   "cell_type": "code",
   "execution_count": null,
   "id": "daee1884",
   "metadata": {},
   "outputs": [],
   "source": [
    "## Step 5  Repeat the previous steps using the features 'latitute', 'longitude', 'MedInc' and 'HouseAge' \n",
    "#to find the best $k$ and $R^2$\n"
   ]
  },
  {
   "cell_type": "code",
   "execution_count": 70,
   "id": "18170deb",
   "metadata": {},
   "outputs": [
    {
     "name": "stdout",
     "output_type": "stream",
     "text": [
      "The best RMSE is  0.698 and the corresponding value of k is  9\n"
     ]
    },
    {
     "data": {
      "image/png": "[encoded data removed]",
      "text/plain": [
       "<Figure size 640x480 with 1 Axes>"
      ]
     },
     "metadata": {},
     "output_type": "display_data"
    }
   ],
   "source": [
    "X = housing[['MedInc','HouseAge','Latitude','Longitude']]\n",
    "\n",
    "y = housing[['MedHouseVal']]\n",
    "\n",
    "# define standard scaler\n",
    "scaler = StandardScaler()\n",
    "# transform data\n",
    "X_scaled = scaler.fit_transform(X)\n",
    "Y_scaled = scaler.fit_transform(y)\n",
    "\n",
    "Rsquared = []\n",
    "for k in range(1,51):   \n",
    "    knn = KNeighborsRegressor(n_neighbors=k)\n",
    "    scores = cross_val_score(knn, X_scaled, Y_scaled, cv=cvdata)\n",
    "    Rsquared.append(scores.mean()) \n",
    "    \n",
    "plt.plot(range(1,51),Rsquared)\n",
    "print(\"The best RMSE is \",round(max(Rsquared),3),\"and the corresponding value of k is \",range(1,51)[np.argmax(Rsquared)])"
   ]
  },
  {
   "cell_type": "markdown",
   "id": "604b7505",
   "metadata": {},
   "source": [
    "Now you can fill in the following table:\n",
    "\n",
    "**Best R^2 for Latitude, Longitude : 0.79**\n",
    "\n",
    "**Best R^2 for latitude, longitude, MedInc : 0.77**\n",
    "\n",
    "**Best R^2 for latitude, longitude, MedInc, HouseAge : 0.70**\n",
    "\n",
    "Which model is the best?\n",
    "\n",
    "**The original model with only latitude and longitude is the best**\n",
    "\n",
    "What is the lesson learnt from this? Are more features always better? Specially for models like knn?\n",
    "\n",
    "**No more feature is not always better. Models like knn benefit more from less complex models with less features because we are not spreading observations out too much between the dimensions**"
   ]
  },
  {
   "cell_type": "markdown",
   "id": "d79864a4",
   "metadata": {},
   "source": [
    "# Problem 3: Nuances of knn\n",
    "\n",
    "In this problem, we will try to understand some situations where knn does not work very well. There are two main issues:\n",
    "\n",
    "- Categorical features and the choice of distance \n",
    "- The curse of dimensionality - Too many features\n",
    " "
   ]
  },
  {
   "cell_type": "markdown",
   "id": "7f3749ff",
   "metadata": {},
   "source": [
    "So far, we have only used knn when we have numeric features. When we have numeric features, we can use the eucledian distance. \n",
    "\n",
    "But What if we have categorical features as well? The eucledian distance does not make sense in the case of categorical features (Recall the defintion of eucledian distance from the previous HW).\n",
    "\n",
    "If we have only categorical features, we can use edit distance, or hamming distance. We will do this in several steps.\n",
    "\n",
    "First we need to code the categorical features as dummy variables. Here's an example:\n"
   ]
  },
  {
   "cell_type": "code",
   "execution_count": 6,
   "id": "6243616f",
   "metadata": {},
   "outputs": [
    {
     "data": {
      "text/html": [
       "<div>\n",
       "<style scoped>\n",
       "    .dataframe tbody tr th:only-of-type {\n",
       "        vertical-align: middle;\n",
       "    }\n",
       "\n",
       "    .dataframe tbody tr th {\n",
       "        vertical-align: top;\n",
       "    }\n",
       "\n",
       "    .dataframe thead th {\n",
       "        text-align: right;\n",
       "    }\n",
       "</style>\n",
       "<table border=\"1\" class=\"dataframe\">\n",
       "  <thead>\n",
       "    <tr style=\"text-align: right;\">\n",
       "      <th></th>\n",
       "      <th>gender</th>\n",
       "      <th>eye_color</th>\n",
       "      <th>hair_color</th>\n",
       "    </tr>\n",
       "  </thead>\n",
       "  <tbody>\n",
       "    <tr>\n",
       "      <th>0</th>\n",
       "      <td>M</td>\n",
       "      <td>brown</td>\n",
       "      <td>black</td>\n",
       "    </tr>\n",
       "    <tr>\n",
       "      <th>1</th>\n",
       "      <td>M</td>\n",
       "      <td>blue</td>\n",
       "      <td>brown</td>\n",
       "    </tr>\n",
       "    <tr>\n",
       "      <th>2</th>\n",
       "      <td>F</td>\n",
       "      <td>blue</td>\n",
       "      <td>black</td>\n",
       "    </tr>\n",
       "    <tr>\n",
       "      <th>3</th>\n",
       "      <td>M</td>\n",
       "      <td>black</td>\n",
       "      <td>black</td>\n",
       "    </tr>\n",
       "    <tr>\n",
       "      <th>4</th>\n",
       "      <td>F</td>\n",
       "      <td>blue</td>\n",
       "      <td>brown</td>\n",
       "    </tr>\n",
       "  </tbody>\n",
       "</table>\n",
       "</div>"
      ],
      "text/plain": [
       "  gender eye_color hair_color\n",
       "0      M     brown      black\n",
       "1      M      blue      brown\n",
       "2      F      blue      black\n",
       "3      M     black      black\n",
       "4      F      blue      brown"
      ]
     },
     "execution_count": 6,
     "metadata": {},
     "output_type": "execute_result"
    }
   ],
   "source": [
    "cat = pd.read_csv('cat.csv')\n",
    "cat.head()"
   ]
  },
  {
   "cell_type": "markdown",
   "id": "b8ea0534",
   "metadata": {},
   "source": [
    "We use the get_dummies function to create dummy variables from categorical data"
   ]
  },
  {
   "cell_type": "code",
   "execution_count": 7,
   "id": "9d32c95c",
   "metadata": {},
   "outputs": [
    {
     "data": {
      "text/html": [
       "<div>\n",
       "<style scoped>\n",
       "    .dataframe tbody tr th:only-of-type {\n",
       "        vertical-align: middle;\n",
       "    }\n",
       "\n",
       "    .dataframe tbody tr th {\n",
       "        vertical-align: top;\n",
       "    }\n",
       "\n",
       "    .dataframe thead th {\n",
       "        text-align: right;\n",
       "    }\n",
       "</style>\n",
       "<table border=\"1\" class=\"dataframe\">\n",
       "  <thead>\n",
       "    <tr style=\"text-align: right;\">\n",
       "      <th></th>\n",
       "      <th>gender_F</th>\n",
       "      <th>gender_M</th>\n",
       "      <th>eye_color_black</th>\n",
       "      <th>eye_color_blue</th>\n",
       "      <th>eye_color_brown</th>\n",
       "      <th>hair_color_black</th>\n",
       "      <th>hair_color_brown</th>\n",
       "    </tr>\n",
       "  </thead>\n",
       "  <tbody>\n",
       "    <tr>\n",
       "      <th>0</th>\n",
       "      <td>0</td>\n",
       "      <td>1</td>\n",
       "      <td>0</td>\n",
       "      <td>0</td>\n",
       "      <td>1</td>\n",
       "      <td>1</td>\n",
       "      <td>0</td>\n",
       "    </tr>\n",
       "    <tr>\n",
       "      <th>1</th>\n",
       "      <td>0</td>\n",
       "      <td>1</td>\n",
       "      <td>0</td>\n",
       "      <td>1</td>\n",
       "      <td>0</td>\n",
       "      <td>0</td>\n",
       "      <td>1</td>\n",
       "    </tr>\n",
       "    <tr>\n",
       "      <th>2</th>\n",
       "      <td>1</td>\n",
       "      <td>0</td>\n",
       "      <td>0</td>\n",
       "      <td>1</td>\n",
       "      <td>0</td>\n",
       "      <td>1</td>\n",
       "      <td>0</td>\n",
       "    </tr>\n",
       "    <tr>\n",
       "      <th>3</th>\n",
       "      <td>0</td>\n",
       "      <td>1</td>\n",
       "      <td>1</td>\n",
       "      <td>0</td>\n",
       "      <td>0</td>\n",
       "      <td>1</td>\n",
       "      <td>0</td>\n",
       "    </tr>\n",
       "    <tr>\n",
       "      <th>4</th>\n",
       "      <td>1</td>\n",
       "      <td>0</td>\n",
       "      <td>0</td>\n",
       "      <td>1</td>\n",
       "      <td>0</td>\n",
       "      <td>0</td>\n",
       "      <td>1</td>\n",
       "    </tr>\n",
       "  </tbody>\n",
       "</table>\n",
       "</div>"
      ],
      "text/plain": [
       "   gender_F  gender_M  eye_color_black  eye_color_blue  eye_color_brown  \\\n",
       "0         0         1                0               0                1   \n",
       "1         0         1                0               1                0   \n",
       "2         1         0                0               1                0   \n",
       "3         0         1                1               0                0   \n",
       "4         1         0                0               1                0   \n",
       "\n",
       "   hair_color_black  hair_color_brown  \n",
       "0                 1                 0  \n",
       "1                 0                 1  \n",
       "2                 1                 0  \n",
       "3                 1                 0  \n",
       "4                 0                 1  "
      ]
     },
     "execution_count": 7,
     "metadata": {},
     "output_type": "execute_result"
    }
   ],
   "source": [
    "dummy = pd.get_dummies(cat)\n",
    "dummy.head()"
   ]
  },
  {
   "cell_type": "code",
   "execution_count": 8,
   "id": "480627ce",
   "metadata": {
    "scrolled": true
   },
   "outputs": [
    {
     "data": {
      "text/plain": [
       "gender_F            0\n",
       "gender_M            1\n",
       "eye_color_black     0\n",
       "eye_color_blue      0\n",
       "eye_color_brown     1\n",
       "hair_color_black    1\n",
       "hair_color_brown    0\n",
       "Name: 0, dtype: uint8"
      ]
     },
     "execution_count": 8,
     "metadata": {},
     "output_type": "execute_result"
    }
   ],
   "source": [
    "#Now we can access the first person by using the .loc method\n",
    "dummy.loc[0]"
   ]
  },
  {
   "cell_type": "code",
   "execution_count": 9,
   "id": "42cfc6ea",
   "metadata": {},
   "outputs": [
    {
     "data": {
      "text/plain": [
       "gender_F            0\n",
       "gender_M            1\n",
       "eye_color_black     0\n",
       "eye_color_blue      1\n",
       "eye_color_brown     0\n",
       "hair_color_black    0\n",
       "hair_color_brown    1\n",
       "Name: 1, dtype: uint8"
      ]
     },
     "execution_count": 9,
     "metadata": {},
     "output_type": "execute_result"
    }
   ],
   "source": [
    "dummy.loc[1]"
   ]
  },
  {
   "cell_type": "markdown",
   "id": "e58a74c4",
   "metadata": {},
   "source": [
    "The hamming distance between two strings is the number of positions in which they differ.\n",
    "\n",
    "For example, the hamming distance between 110 and 111 is 1. The hamming distance between 100 and 111 is 2."
   ]
  },
  {
   "cell_type": "code",
   "execution_count": 10,
   "id": "2f816efe",
   "metadata": {},
   "outputs": [],
   "source": [
    "def hammingDist(str1, str2):\n",
    "    i = 0\n",
    "    count = 0\n",
    " \n",
    "    while(i < len(str1)):\n",
    "        if(str1[i] != str2[i]):\n",
    "            count += 1\n",
    "        i += 1\n",
    "    return count"
   ]
  },
  {
   "cell_type": "code",
   "execution_count": 11,
   "id": "5c7ae88e",
   "metadata": {},
   "outputs": [
    {
     "data": {
      "text/plain": [
       "4"
      ]
     },
     "execution_count": 11,
     "metadata": {},
     "output_type": "execute_result"
    }
   ],
   "source": [
    "hammingDist(dummy.loc[0],dummy.loc[1])"
   ]
  },
  {
   "cell_type": "code",
   "execution_count": 12,
   "id": "b9728042",
   "metadata": {},
   "outputs": [
    {
     "data": {
      "text/plain": [
       "2"
      ]
     },
     "execution_count": 12,
     "metadata": {},
     "output_type": "execute_result"
    }
   ],
   "source": [
    "hammingDist(cat.loc[0],cat.loc[1])"
   ]
  },
  {
   "cell_type": "markdown",
   "id": "020724c4",
   "metadata": {},
   "source": [
    "In case we only have categorical features, we can use distances such as hamming distance, edit distance and so on. But if we have both numeric and categorical features (called mixed features), then its a bit tricky. Can you think of how to compute the distance in KNN when you have both continuos and categorical fetures?"
   ]
  },
  {
   "cell_type": "markdown",
   "id": "167c7143",
   "metadata": {},
   "source": [
    "#your answer here\n",
    "\n",
    "**We can first calculate hamming distance for the categorical variable then scale all the features. Afterwards, we can apply weight to the distance. For example, give more weight for the Eucleadian distance of the continuous features and less weight the hamming distance to the categorical features**"
   ]
  },
  {
   "cell_type": "markdown",
   "id": "90a7f460",
   "metadata": {},
   "source": [
    "## The curse of dimensionality \n",
    "\n",
    "In Problem 2, we saw that more features in knn does not neccessary mean a better model. \n",
    "\n",
    "This phenomena is a limitation of knn. When we have lots of features, knn generally performs poorly. This is called the curse of dimensionality. \n",
    "\n",
    "Mathematically, the term `dimension` is used to describe the number of features. For example, if there are 3 features, we are in 3 dimensional space, if we have 100 features, we are in 100 dimensional space. (we can only visualize in 2 or 3 dimensions). As the number of dimensions increase, there are some weird things that happen.\n",
    "\n",
    "One of the weird things that happens is that in high dimensions `all points are far from each other`. So algorithms like nearest neighbors fail because given a single point, we cannot find any points \"close\" to it.\n",
    "\n",
    "This happens because there is more \"space\" in high dimensions. (There is a lot more to this issue, but I am trying to explain it in the simplest possible manner). The following figure illustrates the idea:"
   ]
  },
  {
   "attachments": {
    "image.png": {
     "image/png": "[encoded data removed]"
    }
   },
   "cell_type": "markdown",
   "id": "f8f5173d",
   "metadata": {},
   "source": [
    "In the figure, you can see, as we move from 1 dimension to 2,3 and 4 dimensions, there is more space and the points become farther and farther.\n",
    "![image.png](attachment:image.png)"
   ]
  }
 ],
 "metadata": {
  "kernelspec": {
   "display_name": "Python 3 (ipykernel)",
   "language": "python",
   "name": "python3"
  },
  "language_info": {
   "codemirror_mode": {
    "name": "ipython",
    "version": 3
   },
   "file_extension": ".py",
   "mimetype": "text/x-python",
   "name": "python",
   "nbconvert_exporter": "python",
   "pygments_lexer": "ipython3",
   "version": "3.9.13"
  }
 },
 "nbformat": 4,
 "nbformat_minor": 5
}
