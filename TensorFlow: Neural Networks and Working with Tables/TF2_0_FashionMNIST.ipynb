{
  "nbformat": 4,
  "nbformat_minor": 0,
  "metadata": {
    "colab": {
      "provenance": [],
      "collapsed_sections": [
        "eGJ4gCA4KYE4",
        "WghBPxMdKJXf",
        "Fn0_22SDP87a",
        "kKSnhhJWB70o"
      ],
      "include_colab_link": true
    },
    "kernelspec": {
      "name": "python3",
      "display_name": "Python 3"
    },
    "language_info": {
      "name": "python"
    },
    "accelerator": "GPU",
    "gpuClass": "standard"
  },
  "cells": [
    {
      "cell_type": "markdown",
      "metadata": {
        "id": "view-in-github",
        "colab_type": "text"
      },
      "source": [
        "<a href=\"https://colab.research.google.com/github/maiphle/Tensorflow/blob/main/TF2_0_FashionMNIST.ipynb\" target=\"_parent\"><img src=\"https://colab.research.google.com/assets/colab-badge.svg\" alt=\"Open In Colab\"/></a>"
      ]
    },
    {
      "cell_type": "markdown",
      "metadata": {
        "id": "WIZfMCH3Jegv"
      },
      "source": [
        "[![Open In Colab](https://colab.research.google.com/assets/colab-badge.svg)](https://colab.research.google.com/drive/1q71mw_g4Oldak1bah4GcM-gVNeiIAKGz?usp=sharing)"
      ]
    },
    {
      "cell_type": "markdown",
      "metadata": {
        "id": "eGJ4gCA4KYE4"
      },
      "source": [
        "## Loading and analysing Fashion MNIST dataset"
      ]
    },
    {
      "cell_type": "code",
      "metadata": {
        "id": "ap4L82SoIbWf",
        "colab": {
          "base_uri": "https://localhost:8080/"
        },
        "outputId": "d13678ca-d890-41c3-93c2-4dc05a863827"
      },
      "source": [
        "import tensorflow as tf\n",
        "from tensorflow.keras import datasets, layers, models\n",
        "import numpy as np\n",
        "import matplotlib.pylab as plt\n",
        "\n",
        "(train_images, train_labels), (test_images, test_labels) = tf.keras.datasets.fashion_mnist.load_data()\n"
      ],
      "execution_count": 1,
      "outputs": [
        {
          "output_type": "stream",
          "name": "stdout",
          "text": [
            "Downloading data from https://storage.googleapis.com/tensorflow/tf-keras-datasets/train-labels-idx1-ubyte.gz\n",
            "29515/29515 [==============================] - 0s 0us/step\n",
            "Downloading data from https://storage.googleapis.com/tensorflow/tf-keras-datasets/train-images-idx3-ubyte.gz\n",
            "26421880/26421880 [==============================] - 2s 0us/step\n",
            "Downloading data from https://storage.googleapis.com/tensorflow/tf-keras-datasets/t10k-labels-idx1-ubyte.gz\n",
            "5148/5148 [==============================] - 0s 0us/step\n",
            "Downloading data from https://storage.googleapis.com/tensorflow/tf-keras-datasets/t10k-images-idx3-ubyte.gz\n",
            "4422102/4422102 [==============================] - 0s 0us/step\n"
          ]
        }
      ]
    },
    {
      "cell_type": "markdown",
      "metadata": {
        "id": "MX5pwHNbBMrz"
      },
      "source": [
        "**Confirm type and dimensions of the dataset**"
      ]
    },
    {
      "cell_type": "code",
      "metadata": {
        "id": "ebSHfDgGIhQM",
        "colab": {
          "base_uri": "https://localhost:8080/"
        },
        "outputId": "be1632d8-c6f4-48b8-91d5-062f0482ae9a"
      },
      "source": [
        "type(train_images)"
      ],
      "execution_count": 2,
      "outputs": [
        {
          "output_type": "execute_result",
          "data": {
            "text/plain": [
              "numpy.ndarray"
            ]
          },
          "metadata": {},
          "execution_count": 2
        }
      ]
    },
    {
      "cell_type": "code",
      "metadata": {
        "id": "gqcWURO4Irbo",
        "colab": {
          "base_uri": "https://localhost:8080/"
        },
        "outputId": "30177b31-2267-45c1-d253-b10a6b40fefb"
      },
      "source": [
        "train_images.shape"
      ],
      "execution_count": 3,
      "outputs": [
        {
          "output_type": "execute_result",
          "data": {
            "text/plain": [
              "(60000, 28, 28)"
            ]
          },
          "metadata": {},
          "execution_count": 3
        }
      ]
    },
    {
      "cell_type": "code",
      "metadata": {
        "id": "v2SUNvKrI2RP",
        "colab": {
          "base_uri": "https://localhost:8080/"
        },
        "outputId": "44a9454a-867a-4853-9bcb-bc88456af02c"
      },
      "source": [
        "test_images.shape"
      ],
      "execution_count": 5,
      "outputs": [
        {
          "output_type": "execute_result",
          "data": {
            "text/plain": [
              "(10000, 28, 28)"
            ]
          },
          "metadata": {},
          "execution_count": 5
        }
      ]
    },
    {
      "cell_type": "markdown",
      "metadata": {
        "id": "VGuQVbA1JTPM"
      },
      "source": [
        "**How many instances do we have of each of the different classes?**"
      ]
    },
    {
      "cell_type": "code",
      "metadata": {
        "id": "GGGcK9OGI4Rl",
        "colab": {
          "base_uri": "https://localhost:8080/"
        },
        "outputId": "7bd19e4c-2933-48f2-b608-cc516171c404"
      },
      "source": [
        "np.unique(train_labels, return_counts=True)"
      ],
      "execution_count": 6,
      "outputs": [
        {
          "output_type": "execute_result",
          "data": {
            "text/plain": [
              "(array([0, 1, 2, 3, 4, 5, 6, 7, 8, 9], dtype=uint8),\n",
              " array([6000, 6000, 6000, 6000, 6000, 6000, 6000, 6000, 6000, 6000]))"
            ]
          },
          "metadata": {},
          "execution_count": 6
        }
      ]
    },
    {
      "cell_type": "code",
      "metadata": {
        "id": "8CwOVTMuMSfu"
      },
      "source": [
        "class_names = ['T-shirt/top', 'Trouser', 'Pullover', 'Dress', 'Coat',\n",
        "               'Sandal', 'Shirt', 'Sneaker', 'Bag', 'Ankle boot']"
      ],
      "execution_count": 7,
      "outputs": []
    },
    {
      "cell_type": "markdown",
      "metadata": {
        "id": "WghBPxMdKJXf"
      },
      "source": [
        "## An overview of the images\n"
      ]
    },
    {
      "cell_type": "code",
      "metadata": {
        "id": "v83v_MQrJGPR",
        "colab": {
          "base_uri": "https://localhost:8080/"
        },
        "outputId": "36a84740-1874-42ff-9d0f-11473c13933b"
      },
      "source": [
        "# Get 16 images at random\n",
        "import random\n",
        "random.seed(1)\n",
        "train_idx = list(range(len(train_labels)))\n",
        "sampler = random.sample(train_idx, 16)\n",
        "sampler"
      ],
      "execution_count": 8,
      "outputs": [
        {
          "output_type": "execute_result",
          "data": {
            "text/plain": [
              "[8805,\n",
              " 37303,\n",
              " 55537,\n",
              " 52577,\n",
              " 50054,\n",
              " 4135,\n",
              " 16716,\n",
              " 7727,\n",
              " 32468,\n",
              " 49870,\n",
              " 29457,\n",
              " 30949,\n",
              " 42702,\n",
              " 24878,\n",
              " 51689,\n",
              " 13759]"
            ]
          },
          "metadata": {},
          "execution_count": 8
        }
      ]
    },
    {
      "cell_type": "code",
      "metadata": {
        "id": "ae5I_i2NLMYg",
        "colab": {
          "base_uri": "https://localhost:8080/",
          "height": 589
        },
        "outputId": "18d0c95e-bc8d-4470-cde5-15eb1e96b78a"
      },
      "source": [
        "plt.figure(figsize=(10, 10))\n",
        "for i in range(len(sampler)):\n",
        " plt.subplot(4,4,i+1)\n",
        " plt.xticks([])\n",
        " plt.yticks([])\n",
        " plt.grid(False)\n",
        " plt.imshow(train_images[sampler[i]], cmap=plt.cm.binary)\n",
        " plt.xlabel(class_names[train_labels[sampler[i]]])\n",
        "plt.show()\n"
      ],
      "execution_count": 9,
      "outputs": [
        {
          "output_type": "display_data",
          "data": {
            "text/plain": [
              "<Figure size 720x720 with 16 Axes>"
            ],
            "image/png": "[encoded data removed]"
          },
          "metadata": {}
        }
      ]
    },
    {
      "cell_type": "markdown",
      "metadata": {
        "id": "_oijYUBt__lh"
      },
      "source": [
        "**What does one image look like?**"
      ]
    },
    {
      "cell_type": "code",
      "metadata": {
        "id": "Q_y4upVPIe8_",
        "colab": {
          "base_uri": "https://localhost:8080/",
          "height": 265
        },
        "outputId": "b0c5c6e5-2c27-4c81-eaba-f0112c8871b7"
      },
      "source": [
        "random_image_id = 15000\n",
        "plt.figure()\n",
        "plt.imshow(train_images[random_image_id],cmap=plt.cm.binary)\n",
        "plt.colorbar()\n",
        "plt.grid(False)\n",
        "plt.show()"
      ],
      "execution_count": 11,
      "outputs": [
        {
          "output_type": "display_data",
          "data": {
            "text/plain": [
              "<Figure size 432x288 with 2 Axes>"
            ],
            "image/png": "[encoded data removed]"
          },
          "metadata": {
            "needs_background": "light"
          }
        }
      ]
    },
    {
      "cell_type": "code",
      "metadata": {
        "id": "21_hgve7-Dnr",
        "colab": {
          "base_uri": "https://localhost:8080/",
          "height": 35
        },
        "outputId": "4dc1ea47-52bc-40a6-d286-e6e99dda73da"
      },
      "source": [
        "class_names[train_labels[random_image_id]]"
      ],
      "execution_count": 12,
      "outputs": [
        {
          "output_type": "execute_result",
          "data": {
            "text/plain": [
              "'Pullover'"
            ],
            "application/vnd.google.colaboratory.intrinsic+json": {
              "type": "string"
            }
          },
          "metadata": {},
          "execution_count": 12
        }
      ]
    },
    {
      "cell_type": "code",
      "metadata": {
        "id": "vw-zJYAf_Bjl",
        "colab": {
          "base_uri": "https://localhost:8080/"
        },
        "outputId": "0a38d65b-864c-447b-9fff-a935194320a0"
      },
      "source": [
        "train_images[random_image_id]"
      ],
      "execution_count": 13,
      "outputs": [
        {
          "output_type": "execute_result",
          "data": {
            "text/plain": [
              "array([[  0,   0,   0,   0,   0,   0,   0,   2,   0,   0,   0,   0,   0,\n",
              "          0,   0,   0,   0,   0,   0,   0,   1,   0,   0,   0,   0,   0,\n",
              "          0,   0],\n",
              "       [  0,   0,   0,   0,   0,   0,   0,   0,   0,  17, 159, 210, 169,\n",
              "        135,  98, 128, 156, 197, 102,   0,   0,   0,   0,   0,   0,   0,\n",
              "          0,   0],\n",
              "       [  0,   0,   0,   0,   0,   0,   0,  84, 215, 239, 244, 247, 255,\n",
              "        224, 186, 255, 255, 251, 246, 220, 145,   0,   0,   0,   0,   0,\n",
              "          0,   0],\n",
              "       [  0,   0,   0,   0,   0,   0, 172, 252, 236, 225, 224, 224, 230,\n",
              "        240, 244, 242, 229, 224, 225, 233, 248, 205,   7,   0,   0,   0,\n",
              "          0,   0],\n",
              "       [  0,   0,   0,   0,   0,  67, 246, 218, 224, 227, 228, 230, 228,\n",
              "        228, 230, 225, 228, 231, 229, 227, 221, 238, 208,   0,   0,   0,\n",
              "          0,   0],\n",
              "       [  0,   0,   0,   0,   0, 168, 246, 225, 229, 229, 228, 227, 230,\n",
              "        228, 226, 227, 230, 225, 228, 228, 229, 221, 250, 114,   0,   0,\n",
              "          0,   0],\n",
              "       [  0,   0,   0,   0,   0, 188, 244, 229, 231, 230, 226, 226, 226,\n",
              "        225, 226, 226, 228, 227, 226, 228, 234, 228, 247, 161,   0,   0,\n",
              "          0,   0],\n",
              "       [  0,   0,   0,   0,   0, 220, 239, 233, 230, 226, 224, 224, 226,\n",
              "        226, 224, 225, 227, 227, 226, 228, 229, 229, 245, 172,   0,   0,\n",
              "          0,   0],\n",
              "       [  0,   0,   0,   0,   0, 239, 236, 239, 230, 226, 225, 225, 228,\n",
              "        229, 226, 227, 228, 227, 227, 226, 231, 235, 244, 198,   0,   0,\n",
              "          0,   0],\n",
              "       [  0,   0,   0,   0,   0, 255, 232, 251, 241, 227, 229, 228, 228,\n",
              "        228, 227, 228, 228, 231, 233, 227, 249, 240, 237, 232,   0,   0,\n",
              "          0,   0],\n",
              "       [  0,   0,   0,   0,  10, 255, 231, 251, 216, 234, 228, 228, 228,\n",
              "        228, 227, 228, 229, 229, 232, 227, 215, 249, 232, 254,   0,   0,\n",
              "          0,   0],\n",
              "       [  0,   0,   0,   0,  48, 255, 237, 237, 164, 248, 227, 228, 228,\n",
              "        228, 226, 228, 228, 232, 234, 231, 164, 255, 229, 255,   0,   0,\n",
              "          0,   0],\n",
              "       [  0,   0,   0,   0,  87, 255, 240, 234, 151, 250, 227, 228, 229,\n",
              "        230, 228, 229, 229, 228, 237, 231, 109, 255, 229, 255,  24,   0,\n",
              "          0,   0],\n",
              "       [  0,   0,   0,   0, 103, 254, 240, 233, 144, 253, 226, 228, 229,\n",
              "        230, 229, 229, 228, 231, 234, 235,  61, 255, 234, 255,  54,   0,\n",
              "          0,   0],\n",
              "       [  0,   0,   0,   0, 116, 254, 242, 230, 132, 254, 223, 228, 229,\n",
              "        230, 229, 229, 228, 230, 236, 236,  53, 255, 232, 242,  84,   0,\n",
              "          0,   0],\n",
              "       [  0,   0,   0,   0, 144, 253, 246, 227, 129, 254, 223, 229, 229,\n",
              "        230, 229, 229, 229, 229, 237, 238,  35, 255, 232, 255, 104,   0,\n",
              "          0,   0],\n",
              "       [  0,   0,   0,   0, 168, 247, 250, 216, 121, 255, 220, 230, 229,\n",
              "        229, 229, 229, 229, 226, 235, 254,   8, 255, 236, 255, 105,   0,\n",
              "          0,   0],\n",
              "       [  0,   0,   0,   0, 181, 241, 255, 199,  95, 255, 217, 231, 229,\n",
              "        229, 229, 229, 229, 227, 232, 255,   0, 245, 241, 254, 120,   0,\n",
              "          0,   0],\n",
              "       [  0,   0,   0,   0, 190, 234, 255, 201, 100, 255, 219, 230, 229,\n",
              "        229, 229, 229, 229, 227, 231, 255,   0, 229, 246, 238, 146,   0,\n",
              "          0,   0],\n",
              "       [  0,   0,   0,   0, 195, 233, 255, 152,  97, 255, 218, 231, 228,\n",
              "        228, 228, 228, 228, 227, 227, 255,   0, 190, 251, 234, 178,   0,\n",
              "          0,   0],\n",
              "       [  0,   0,   0,   0, 197, 228, 255,  68,  93, 255, 219, 231, 228,\n",
              "        228, 228, 228, 228, 228, 227, 255,   0, 144, 253, 232, 191,   0,\n",
              "          0,   0],\n",
              "       [  0,   0,   0,   0, 198, 221, 255,  42,  90, 255, 222, 232, 230,\n",
              "        229, 230, 229, 230, 227, 228, 255,   0, 100, 254, 228, 200,   0,\n",
              "          0,   0],\n",
              "       [  0,   0,   0,   0, 200, 227, 255,  17, 108, 246, 222, 226, 223,\n",
              "        223, 223, 223, 223, 226, 226, 255,   0,  77, 254, 228, 197,   0,\n",
              "          0,   0],\n",
              "       [  0,   0,   0,   0, 201, 231, 255,   0, 139, 254, 233, 236, 236,\n",
              "        237, 238, 238, 238, 238, 235, 255,   0,  41, 254, 229, 186,   0,\n",
              "          0,   0],\n",
              "       [  0,   0,   0,   0, 189, 234, 255,   0, 121, 255, 200, 203, 240,\n",
              "        239, 238, 238, 238, 201, 202, 255,   0,   0, 238, 234, 185,   0,\n",
              "          0,   0],\n",
              "       [  0,   0,   0,   0, 169, 243, 190,   0,   0,   0,   0,   0,   0,\n",
              "          0,   0,   0,   0,   0,   0,   0,   0,   0, 216, 240, 181,   0,\n",
              "          0,   0],\n",
              "       [  0,   0,   0,   0, 158, 255, 224,   0,   0,   0,   0,   0,   0,\n",
              "          0,   0,   0,   0,   0,   0,   0,   0,   0, 241, 255, 168,   0,\n",
              "          0,   0],\n",
              "       [  0,   0,   0,   0,   3,  51,  27,   0,   0,   1,   1,   1,   1,\n",
              "          1,   1,   1,   1,   1,   1,   1,   0,   0,  18,  53,   4,   0,\n",
              "          0,   0]], dtype=uint8)"
            ]
          },
          "metadata": {},
          "execution_count": 13
        }
      ]
    },
    {
      "cell_type": "markdown",
      "metadata": {
        "id": "Fn0_22SDP87a"
      },
      "source": [
        "## Build, compile and train the model"
      ]
    },
    {
      "cell_type": "code",
      "metadata": {
        "id": "pv-cMB5PAERF"
      },
      "source": [
        "(train_images, train_labels), (test_images, test_labels) = tf.keras.datasets.fashion_mnist.load_data()\n",
        "train_images = train_images / 255.0\n",
        "test_images = test_images / 255.0"
      ],
      "execution_count": 14,
      "outputs": []
    },
    {
      "cell_type": "code",
      "metadata": {
        "id": "p04Kd-_zKYpY",
        "colab": {
          "base_uri": "https://localhost:8080/",
          "height": 269
        },
        "outputId": "886378df-a36f-471b-fdfb-58740fe6a371"
      },
      "source": [
        "plt.figure()\n",
        "plt.imshow(train_images[8], cmap=plt.cm.binary)\n",
        "plt.colorbar()\n",
        "plt.grid(False)\n",
        "plt.show()"
      ],
      "execution_count": 15,
      "outputs": [
        {
          "output_type": "display_data",
          "data": {
            "text/plain": [
              "<Figure size 432x288 with 2 Axes>"
            ],
            "image/png": "[encoded data removed]"
          },
          "metadata": {
            "needs_background": "light"
          }
        }
      ]
    },
    {
      "cell_type": "code",
      "metadata": {
        "id": "4rb8bR7DMcGE",
        "colab": {
          "base_uri": "https://localhost:8080/"
        },
        "outputId": "429bec6a-609c-4817-d9aa-4c9dd11971f2"
      },
      "source": [
        "#build\n",
        "model = tf.keras.Sequential([\n",
        "  tf.keras.layers.Flatten(input_shape=(28, 28)),                           \n",
        "  tf.keras.layers.Dense(128, activation='relu'), \n",
        "  tf.keras.layers.Dense(64, activation='relu'),                              \n",
        "  tf.keras.layers.Dense(10),                             \n",
        "  ])\n",
        "#compile\n",
        "model.compile(optimizer='adam',\n",
        "              loss=tf.keras.losses.SparseCategoricalCrossentropy(from_logits=True),\n",
        "              metrics=['accuracy'])\n",
        "#train\n",
        "model.fit(train_images, train_labels, epochs=10, batch_size=64, validation_split=0.1)"
      ],
      "execution_count": 16,
      "outputs": [
        {
          "output_type": "stream",
          "name": "stdout",
          "text": [
            "Epoch 1/10\n",
            "844/844 [==============================] - 5s 3ms/step - loss: 0.5234 - accuracy: 0.8190 - val_loss: 0.3945 - val_accuracy: 0.8578\n",
            "Epoch 2/10\n",
            "844/844 [==============================] - 2s 3ms/step - loss: 0.3804 - accuracy: 0.8624 - val_loss: 0.3604 - val_accuracy: 0.8672\n",
            "Epoch 3/10\n",
            "844/844 [==============================] - 3s 3ms/step - loss: 0.3455 - accuracy: 0.8733 - val_loss: 0.3683 - val_accuracy: 0.8683\n",
            "Epoch 4/10\n",
            "844/844 [==============================] - 3s 3ms/step - loss: 0.3152 - accuracy: 0.8835 - val_loss: 0.3502 - val_accuracy: 0.8720\n",
            "Epoch 5/10\n",
            "844/844 [==============================] - 2s 3ms/step - loss: 0.3015 - accuracy: 0.8883 - val_loss: 0.3389 - val_accuracy: 0.8743\n",
            "Epoch 6/10\n",
            "844/844 [==============================] - 3s 3ms/step - loss: 0.2849 - accuracy: 0.8937 - val_loss: 0.3318 - val_accuracy: 0.8817\n",
            "Epoch 7/10\n",
            "844/844 [==============================] - 3s 3ms/step - loss: 0.2711 - accuracy: 0.9000 - val_loss: 0.3420 - val_accuracy: 0.8772\n",
            "Epoch 8/10\n",
            "844/844 [==============================] - 2s 3ms/step - loss: 0.2611 - accuracy: 0.9025 - val_loss: 0.3398 - val_accuracy: 0.8802\n",
            "Epoch 9/10\n",
            "844/844 [==============================] - 2s 3ms/step - loss: 0.2518 - accuracy: 0.9057 - val_loss: 0.3307 - val_accuracy: 0.8793\n",
            "Epoch 10/10\n",
            "844/844 [==============================] - 3s 3ms/step - loss: 0.2422 - accuracy: 0.9085 - val_loss: 0.3310 - val_accuracy: 0.8870\n"
          ]
        },
        {
          "output_type": "execute_result",
          "data": {
            "text/plain": [
              "<keras.callbacks.History at 0x7fce59828fd0>"
            ]
          },
          "metadata": {},
          "execution_count": 16
        }
      ]
    },
    {
      "cell_type": "code",
      "metadata": {
        "id": "oY0TkxcuQoLo",
        "colab": {
          "base_uri": "https://localhost:8080/",
          "height": 108
        },
        "outputId": "b40839c3-e317-4353-fea0-fcddaa6e0c79"
      },
      "source": [
        "# FashionMNIST\n",
        "tf.keras.utils.plot_model(model, show_shapes=True, rankdir=\"LR\")"
      ],
      "execution_count": 17,
      "outputs": [
        {
          "output_type": "execute_result",
          "data": {
            "image/png": "[encoded data removed]",
            "text/plain": [
              "<IPython.core.display.Image object>"
            ]
          },
          "metadata": {},
          "execution_count": 17
        }
      ]
    },
    {
      "cell_type": "markdown",
      "metadata": {
        "id": "kKSnhhJWB70o"
      },
      "source": [
        "## Make predictions\n"
      ]
    },
    {
      "cell_type": "code",
      "metadata": {
        "id": "V3NZjub5VP1Z",
        "colab": {
          "base_uri": "https://localhost:8080/",
          "height": 275
        },
        "outputId": "14a433ec-d83b-4bb5-b571-387ede6b7b9c"
      },
      "source": [
        "image_id = 9999 # Pick an image id between 0 and 9999 inclusive\n",
        "\n",
        "probability_model = tf.keras.Sequential([model, tf.keras.layers.Softmax()])\n",
        "predictions = probability_model.predict(test_images)\n",
        "\n",
        "def plot_image(i, predictions_array, true_label, img):\n",
        "  true_label, img = true_label[i], img[i]\n",
        "  plt.grid(False)\n",
        "  plt.xticks([])\n",
        "  plt.yticks([])\n",
        "\n",
        "  plt.imshow(img, cmap=plt.cm.binary)\n",
        "\n",
        "  predicted_label = np.argmax(predictions_array)\n",
        "  if predicted_label == true_label:\n",
        "    color = 'green'\n",
        "  else:\n",
        "    color = 'red'\n",
        "\n",
        "  plt.xlabel(f\"{class_names[predicted_label]} {100*np.max(predictions_array):2.0f}% ({class_names[true_label]})\", color=color)\n",
        "\n",
        "def plot_value_array(i, predictions_array, true_label):\n",
        "  true_label = true_label[i]\n",
        "  plt.grid(False)\n",
        "  plt.xticks(range(10))\n",
        "  plt.yticks(range(10))\n",
        "  thisplot = plt.bar(range(10), predictions_array, color=\"#777777\")\n",
        "  plt.ylim([0, 1])\n",
        "  predicted_label = np.argmax(predictions_array)\n",
        "\n",
        "  thisplot[predicted_label].set_color('red')\n",
        "  thisplot[true_label].set_color('green')\n",
        "\n",
        "plt.figure(figsize=(6,3))\n",
        "plt.subplot(1,2,1)\n",
        "plot_image(image_id, predictions[image_id], test_labels, test_images)\n",
        "plt.subplot(1,2,2)\n",
        "plot_value_array(image_id, predictions[image_id],  test_labels)\n",
        "_ = plt.xticks(range(10), class_names, rotation=90)\n",
        "plt.show()"
      ],
      "execution_count": 22,
      "outputs": [
        {
          "output_type": "stream",
          "name": "stdout",
          "text": [
            "313/313 [==============================] - 0s 1ms/step\n"
          ]
        },
        {
          "output_type": "display_data",
          "data": {
            "text/plain": [
              "<Figure size 432x216 with 2 Axes>"
            ],
            "image/png": "[encoded data removed]"
          },
          "metadata": {
            "needs_background": "light"
          }
        }
      ]
    },
    {
      "cell_type": "code",
      "metadata": {
        "id": "sMQjenxHSgZL"
      },
      "source": [],
      "execution_count": null,
      "outputs": []
    }
  ]
}
